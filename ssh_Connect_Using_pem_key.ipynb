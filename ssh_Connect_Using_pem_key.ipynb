{
 "cells": [
  {
   "cell_type": "code",
   "execution_count": null,
   "metadata": {
    "colab": {
     "base_uri": "https://localhost:8080/"
    },
    "id": "RwcXYQit0nt4",
    "outputId": "1395192c-56f6-47a0-f7ad-6bd4ff9e9141",
    "scrolled": true
   },
   "outputs": [
    {
     "name": "stdout",
     "output_type": "stream",
     "text": [
      "Reading package lists... Done\n",
      "Building dependency tree       \n",
      "Reading state information... Done\n",
      "The following NEW packages will be installed:\n",
      "  autossh\n",
      "0 upgraded, 1 newly installed, 0 to remove and 31 not upgraded.\n",
      "Need to get 28.8 kB of archives.\n",
      "After this operation, 85.0 kB of additional disk space will be used.\n",
      "Get:1 http://archive.ubuntu.com/ubuntu bionic/universe amd64 autossh amd64 1.4e-4 [28.8 kB]\n",
      "Fetched 28.8 kB in 0s (99.1 kB/s)\n",
      "debconf: unable to initialize frontend: Dialog\n",
      "debconf: (No usable dialog-like program is installed, so the dialog based frontend cannot be used. at /usr/share/perl5/Debconf/FrontEnd/Dialog.pm line 76, <> line 1.)\n",
      "debconf: falling back to frontend: Readline\n",
      "debconf: unable to initialize frontend: Readline\n",
      "debconf: (This frontend requires a controlling tty.)\n",
      "debconf: falling back to frontend: Teletype\n",
      "dpkg-preconfigure: unable to re-open stdin: \n",
      "Selecting previously unselected package autossh.\n",
      "(Reading database ... 160983 files and directories currently installed.)\n",
      "Preparing to unpack .../autossh_1.4e-4_amd64.deb ...\n",
      "Unpacking autossh (1.4e-4) ...\n",
      "Setting up autossh (1.4e-4) ...\n",
      "Processing triggers for man-db (2.8.3-2ubuntu0.1) ...\n"
     ]
    }
   ],
   "source": [
    "!sudo apt install autossh"
   ]
  },
  {
   "cell_type": "code",
   "execution_count": null,
   "metadata": {
    "colab": {
     "base_uri": "https://localhost:8080/"
    },
    "id": "QqfiBhdu0vFA",
    "outputId": "b9c6216a-6a7e-426e-c069-960812d9f26f"
   },
   "outputs": [
    {
     "name": "stdout",
     "output_type": "stream",
     "text": [
      "Generating public/private rsa key pair.\n",
      "Created directory '/root/.ssh'.\n",
      "Your identification has been saved in /root/.ssh/id_rsa.\n",
      "Your public key has been saved in /root/.ssh/id_rsa.pub.\n",
      "The key fingerprint is:\n",
      "SHA256:UQs0mFDqHruPXDFY4H2ugp3ldtxePiIM5VjRUjrRy+g root@342295a3f658\n",
      "The key's randomart image is:\n",
      "+---[RSA 2048]----+\n",
      "|    oo.+=+o      |\n",
      "|   . +o o*o.     |\n",
      "|    o o ==..     |\n",
      "|   . o o+oo      |\n",
      "|    + +*S        |\n",
      "|   + *o=E.       |\n",
      "|  . * =oo . .    |\n",
      "|   . * .o..o.    |\n",
      "|    +..  .....   |\n",
      "+----[SHA256]-----+\n"
     ]
    }
   ],
   "source": [
    "!ssh-keygen -t rsa -N \"\" -f ~/.ssh/id_rsa"
   ]
  },
  {
   "cell_type": "code",
   "execution_count": null,
   "metadata": {
    "id": "un6kwhMf1Bbz"
   },
   "outputs": [],
   "source": [
    "!echo 'autossh -M 0 -o StrictHostKeyChecking=no -i \"DBAP-Debian_key.pem\" -L 5432:localhost:5432 azureuser@13.94.215.46' > connect_it.sh\n"
   ]
  },
  {
   "cell_type": "code",
   "execution_count": null,
   "metadata": {
    "colab": {
     "base_uri": "https://localhost:8080/"
    },
    "id": "F1cy3tvt1N1r",
    "outputId": "3cb8ed9e-dd00-466f-8635-594f37038d27"
   },
   "outputs": [
    {
     "name": "stdout",
     "output_type": "stream",
     "text": [
      "Reading package lists... Done\n",
      "Building dependency tree       \n",
      "Reading state information... Done\n",
      "screen is already the newest version (4.6.2-1ubuntu1.1).\n",
      "0 upgraded, 0 newly installed, 0 to remove and 31 not upgraded.\n"
     ]
    }
   ],
   "source": [
    "!apt install screen"
   ]
  },
  {
   "cell_type": "code",
   "execution_count": null,
   "metadata": {
    "id": "J2bCRDSw2UhJ"
   },
   "outputs": [],
   "source": [
    "!chmod 400 \"DBAP-Debian_key.pem\""
   ]
  },
  {
   "cell_type": "code",
   "execution_count": null,
   "metadata": {
    "id": "6EirMl5Z1WeP"
   },
   "outputs": [],
   "source": [
    "!screen -dmS name sh \"connect_it.sh\""
   ]
  },
  {
   "cell_type": "code",
   "execution_count": null,
   "metadata": {
    "colab": {
     "base_uri": "https://localhost:8080/"
    },
    "id": "eG4NTrgA2ZCq",
    "outputId": "6a52e339-6ae3-474a-f3f2-1be2579ec692"
   },
   "outputs": [
    {
     "name": "stdout",
     "output_type": "stream",
     "text": [
      "COMMAND PID USER   FD   TYPE DEVICE SIZE/OFF NODE NAME\n",
      "ssh     563 root    4u  IPv4  37356      0t0  TCP localhost:5432 (LISTEN)\n"
     ]
    }
   ],
   "source": [
    "!sudo lsof -i :5432"
   ]
  },
  {
   "cell_type": "code",
   "execution_count": 1,
   "metadata": {
    "id": "CUlVvReN5RPh"
   },
   "outputs": [
    {
     "name": "stdout",
     "output_type": "stream",
     "text": [
      "Requirement already satisfied: sshtunnel in c:\\users\\91989\\anaconda3\\lib\\site-packages (0.4.0)\n",
      "Requirement already satisfied: paramiko in c:\\users\\91989\\anaconda3\\lib\\site-packages (2.7.2)\n",
      "Requirement already satisfied: psycopg2 in c:\\users\\91989\\anaconda3\\lib\\site-packages (2.8.6)\n",
      "Requirement already satisfied: bcrypt>=3.1.3 in c:\\users\\91989\\anaconda3\\lib\\site-packages (from paramiko) (3.2.0)\n",
      "Requirement already satisfied: pynacl>=1.0.1 in c:\\users\\91989\\anaconda3\\lib\\site-packages (from paramiko) (1.4.0)\n",
      "Requirement already satisfied: cryptography>=2.5 in c:\\users\\91989\\anaconda3\\lib\\site-packages (from paramiko) (3.1.1)\n",
      "Requirement already satisfied: six>=1.4.1 in c:\\users\\91989\\anaconda3\\lib\\site-packages (from bcrypt>=3.1.3->paramiko) (1.15.0)\n",
      "Requirement already satisfied: cffi>=1.1 in c:\\users\\91989\\anaconda3\\lib\\site-packages (from bcrypt>=3.1.3->paramiko) (1.14.3)\n",
      "Requirement already satisfied: pycparser in c:\\users\\91989\\anaconda3\\lib\\site-packages (from cffi>=1.1->bcrypt>=3.1.3->paramiko) (2.20)\n"
     ]
    }
   ],
   "source": [
    "!pip install sshtunnel paramiko psycopg2"
   ]
  }
 ],
 "metadata": {
  "colab": {
   "collapsed_sections": [],
   "name": "ssh_autoConnect.ipynb",
   "provenance": []
  },
  "kernelspec": {
   "display_name": "Python 3",
   "language": "python",
   "name": "python3"
  },
  "language_info": {
   "codemirror_mode": {
    "name": "ipython",
    "version": 3
   },
   "file_extension": ".py",
   "mimetype": "text/x-python",
   "name": "python",
   "nbconvert_exporter": "python",
   "pygments_lexer": "ipython3",
   "version": "3.8.5"
  }
 },
 "nbformat": 4,
 "nbformat_minor": 1
}
