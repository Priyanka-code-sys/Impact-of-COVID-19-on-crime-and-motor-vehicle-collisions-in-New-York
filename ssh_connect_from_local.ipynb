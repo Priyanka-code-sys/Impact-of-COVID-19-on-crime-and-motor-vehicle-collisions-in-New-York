{
 "cells": [
  {
   "cell_type": "code",
   "execution_count": 2,
   "metadata": {},
   "outputs": [
    {
     "name": "stdout",
     "output_type": "stream",
     "text": [
      "50080\n",
      "FINISH!\n"
     ]
    }
   ],
   "source": [
    "import paramiko\n",
    "import sshtunnel\n",
    "import psycopg2\n",
    "\n",
    "serverIP = \"20.86.118.107\"\n",
    "with sshtunnel.open_tunnel(\n",
    "    (serverIP, 59595),\n",
    "    ssh_username=\"noel\",\n",
    "    ssh_pkey=\"C:/Users/91989/id_rsa.pub\",\n",
    "    remote_bind_address=('0.0.0.0', 5432)\n",
    ") as tunnel:\n",
    "    print(tunnel.local_bind_port)\n",
    "    \n",
    "     \n",
    "    dbConnection = psycopg2.connect(\n",
    "        user = \"postgres\",\n",
    "        password = \"postgresql-resetting-password-of-postgresql-on-ubuntu\",\n",
    "        host = \"localhost\",\n",
    "        port = tunnel.local_bind_port,\n",
    "        database = \"postgres\")\n",
    "    \n",
    "    dbConnection.set_isolation_level(0) # AUTOCOMMIT\n",
    "    dbCursor = dbConnection.cursor()\n",
    "    dbCursor.execute('CREATE DATABASE testfromlocal;')\n",
    "    dbCursor.close()\n",
    "    \n",
    "    \n",
    "    \n",
    "\n",
    "print('FINISH!')"
   ]
  }
 ],
 "metadata": {
  "kernelspec": {
   "display_name": "Python 3",
   "language": "python",
   "name": "python3"
  },
  "language_info": {
   "codemirror_mode": {
    "name": "ipython",
    "version": 3
   },
   "file_extension": ".py",
   "mimetype": "text/x-python",
   "name": "python",
   "nbconvert_exporter": "python",
   "pygments_lexer": "ipython3",
   "version": "3.8.5"
  }
 },
 "nbformat": 4,
 "nbformat_minor": 4
}
